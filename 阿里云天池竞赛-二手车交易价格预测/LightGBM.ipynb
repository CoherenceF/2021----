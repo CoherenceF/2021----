{
 "cells": [
  {
   "cell_type": "code",
   "execution_count": 1,
   "metadata": {},
   "outputs": [],
   "source": [
    "import numpy as np\n",
    "import pandas as pd\n",
    "import matplotlib.pyplot as plt\n",
    "%matplotlib inline\n",
    "import seaborn as sns"
   ]
  },
  {
   "cell_type": "code",
   "execution_count": 2,
   "metadata": {},
   "outputs": [],
   "source": [
    "# 加载数据\n",
    "path = 'C:/Users/Fz/Fz/二手车交易价格预测/'\n",
    "train = pd.read_csv(path+'train_tree.csv', sep=' ', encoding='utf-8', engine='python')\n",
    "test = pd.read_csv(path+'test_tree.csv', sep=' ', encoding='utf-8', engine='python')"
   ]
  },
  {
   "cell_type": "code",
   "execution_count": 3,
   "metadata": {},
   "outputs": [
    {
     "data": {
      "text/plain": [
       "(150000, 91)"
      ]
     },
     "execution_count": 3,
     "metadata": {},
     "output_type": "execute_result"
    }
   ],
   "source": [
    "train.shape"
   ]
  },
  {
   "cell_type": "code",
   "execution_count": 4,
   "metadata": {},
   "outputs": [],
   "source": [
    "X_train = train.drop('price', axis=1)\n",
    "y_train = train['price']\n",
    "X_test = test.drop('price', axis=1)"
   ]
  },
  {
   "cell_type": "code",
   "execution_count": 5,
   "metadata": {},
   "outputs": [],
   "source": [
    "# X_train = np.array(X_train)\n",
    "# y_train = np.array(y_train)\n",
    "# X_test = np.array(X_test)"
   ]
  },
  {
   "cell_type": "markdown",
   "metadata": {},
   "source": [
    "# **建模调参**"
   ]
  },
  {
   "cell_type": "code",
   "execution_count": 6,
   "metadata": {},
   "outputs": [],
   "source": [
    "from sklearn.model_selection import KFold, cross_val_score\n",
    "from sklearn.metrics import mean_absolute_error"
   ]
  },
  {
   "cell_type": "markdown",
   "metadata": {},
   "source": [
    "#### **交叉验证**"
   ]
  },
  {
   "cell_type": "code",
   "execution_count": 7,
   "metadata": {},
   "outputs": [],
   "source": [
    "kf = KFold(n_splits=5, shuffle=True, random_state=2020)"
   ]
  },
  {
   "cell_type": "markdown",
   "metadata": {},
   "source": [
    "#### **LightGBM 模型**"
   ]
  },
  {
   "cell_type": "code",
   "execution_count": 8,
   "metadata": {},
   "outputs": [],
   "source": [
    "import lightgbm as lgb"
   ]
  },
  {
   "cell_type": "markdown",
   "metadata": {},
   "source": [
    "#### **参数优化**"
   ]
  },
  {
   "cell_type": "code",
   "execution_count": 9,
   "metadata": {},
   "outputs": [],
   "source": [
    "from hyperopt import fmin, tpe, hp\n",
    "from bayes_opt import BayesianOptimization"
   ]
  },
  {
   "cell_type": "code",
   "execution_count": 10,
   "metadata": {},
   "outputs": [],
   "source": [
    "oof = np.zeros(len(X_train))\n",
    "prediction_train = np.zeros(len(X_train))\n",
    "prediction = np.zeros(len(X_test))"
   ]
  },
  {
   "cell_type": "code",
   "execution_count": 11,
   "metadata": {},
   "outputs": [],
   "source": [
    "params = {'objective': 'mae', \n",
    "          'boosting_type': 'gbdt',\n",
    "          'num_boost_round': 10**5,\n",
    "          'learning_rate': 0.01,\n",
    "          'num_leaves': 100,\n",
    "          'max_depth': -1,\n",
    "          'min_data_in_leaf': 20,\n",
    "          'bagging_fraction': 0.8,\n",
    "          'bagging_freq': 1,\n",
    "          'feature_fraction': 0.8,\n",
    "          'lambda_l2': 2,\n",
    "          'max_bin': 500,\n",
    "          'metrics': 'mae'\n",
    "         }\n",
    "params_x = params.copy()\n",
    "del params_x['num_boost_round']"
   ]
  },
  {
   "cell_type": "code",
   "execution_count": 12,
   "metadata": {},
   "outputs": [],
   "source": [
    "# 调整训练过程的学习率\n",
    "# def reduce_lr(current_iteration):\n",
    "#     lr = 0.1\n",
    "#     if current_iteration  > 5*10**3 :\n",
    "#         lr =  0.01\n",
    "#     if current_iteration  == 5*10**3 :\n",
    "#         print(\"lr changed to {}\".format(0.01))\n",
    "#     return lr"
   ]
  },
  {
   "cell_type": "code",
   "execution_count": 13,
   "metadata": {},
   "outputs": [],
   "source": [
    "def lgb_cv(params_opt=params.copy()):\n",
    "    params_dict = params.copy()\n",
    "#     params_dict.update(params_opt)\n",
    "    num_boost_round = params_dict['num_boost_round']\n",
    "    params_dict_x = params_x.copy()\n",
    "#     params_dict_x.update(params_opt)\n",
    "    for train_id, valid_id in kf.split(X_train, y_train):\n",
    "        train_data = lgb.Dataset(X_train.iloc[train_id], y_train.iloc[train_id])\n",
    "        valid_data = lgb.Dataset(X_train.iloc[valid_id], y_train.iloc[valid_id])\n",
    "        model = lgb.train(params_dict_x, train_data, num_boost_round, [train_data, valid_data],\n",
    "                          verbose_eval=5*10**3, early_stopping_rounds=10**3, callbacks=[])\n",
    "        oof[valid_id] = model.predict(X_train.iloc[valid_id], num_iteration=model.best_iteration)\n",
    "        global prediction\n",
    "        prediction += model.predict(X_test, num_iteration=model.best_iteration) / kf.n_splits\n",
    "        print(mean_absolute_error(np.expm1(oof[valid_id]), np.expm1(y_train.iloc[valid_id])))\n",
    "    score = mean_absolute_error(np.expm1(oof), np.expm1(y_train))\n",
    "    return score"
   ]
  },
  {
   "cell_type": "code",
   "execution_count": 14,
   "metadata": {},
   "outputs": [
    {
     "name": "stdout",
     "output_type": "stream",
     "text": [
      "Training until validation scores don't improve for 1000 rounds\n",
      "[2000]\ttraining's l1: 0.107972\tvalid_1's l1: 0.116975\n",
      "[4000]\ttraining's l1: 0.100203\tvalid_1's l1: 0.11288\n",
      "[6000]\ttraining's l1: 0.0956189\tvalid_1's l1: 0.111373\n",
      "[8000]\ttraining's l1: 0.0923977\tvalid_1's l1: 0.110577\n",
      "[10000]\ttraining's l1: 0.0899343\tvalid_1's l1: 0.110096\n",
      "[12000]\ttraining's l1: 0.0878369\tvalid_1's l1: 0.109723\n",
      "[14000]\ttraining's l1: 0.0861594\tvalid_1's l1: 0.109463\n",
      "[16000]\ttraining's l1: 0.0846287\tvalid_1's l1: 0.109242\n",
      "[18000]\ttraining's l1: 0.0833145\tvalid_1's l1: 0.109051\n",
      "[20000]\ttraining's l1: 0.0820518\tvalid_1's l1: 0.108884\n",
      "[22000]\ttraining's l1: 0.0809278\tvalid_1's l1: 0.108766\n",
      "[24000]\ttraining's l1: 0.0799972\tvalid_1's l1: 0.108671\n",
      "[26000]\ttraining's l1: 0.0791289\tvalid_1's l1: 0.108593\n",
      "[28000]\ttraining's l1: 0.0783208\tvalid_1's l1: 0.108516\n",
      "[30000]\ttraining's l1: 0.0775384\tvalid_1's l1: 0.108454\n",
      "[32000]\ttraining's l1: 0.0767456\tvalid_1's l1: 0.108385\n",
      "[34000]\ttraining's l1: 0.0760465\tvalid_1's l1: 0.108331\n",
      "[36000]\ttraining's l1: 0.0753289\tvalid_1's l1: 0.108278\n",
      "[38000]\ttraining's l1: 0.0746496\tvalid_1's l1: 0.108233\n",
      "[40000]\ttraining's l1: 0.0740794\tvalid_1's l1: 0.108191\n",
      "[42000]\ttraining's l1: 0.0735119\tvalid_1's l1: 0.10815\n",
      "[44000]\ttraining's l1: 0.072969\tvalid_1's l1: 0.108112\n",
      "[46000]\ttraining's l1: 0.0723852\tvalid_1's l1: 0.108075\n",
      "[48000]\ttraining's l1: 0.0718854\tvalid_1's l1: 0.10804\n",
      "[50000]\ttraining's l1: 0.0714072\tvalid_1's l1: 0.10802\n",
      "[52000]\ttraining's l1: 0.0708668\tvalid_1's l1: 0.10799\n",
      "[54000]\ttraining's l1: 0.0704199\tvalid_1's l1: 0.107972\n",
      "[56000]\ttraining's l1: 0.0700164\tvalid_1's l1: 0.107944\n",
      "[58000]\ttraining's l1: 0.0696303\tvalid_1's l1: 0.10793\n",
      "[60000]\ttraining's l1: 0.0692514\tvalid_1's l1: 0.107909\n",
      "[62000]\ttraining's l1: 0.0688489\tvalid_1's l1: 0.107881\n",
      "[64000]\ttraining's l1: 0.0684814\tvalid_1's l1: 0.107864\n",
      "[66000]\ttraining's l1: 0.0680248\tvalid_1's l1: 0.107847\n",
      "[68000]\ttraining's l1: 0.0676119\tvalid_1's l1: 0.107833\n",
      "[70000]\ttraining's l1: 0.0672375\tvalid_1's l1: 0.107812\n",
      "[72000]\ttraining's l1: 0.0668718\tvalid_1's l1: 0.107799\n",
      "[74000]\ttraining's l1: 0.0665329\tvalid_1's l1: 0.107791\n",
      "[76000]\ttraining's l1: 0.0661892\tvalid_1's l1: 0.107779\n",
      "[78000]\ttraining's l1: 0.0658294\tvalid_1's l1: 0.107765\n",
      "[80000]\ttraining's l1: 0.0654439\tvalid_1's l1: 0.107748\n",
      "[82000]\ttraining's l1: 0.0650735\tvalid_1's l1: 0.107731\n",
      "[84000]\ttraining's l1: 0.0647936\tvalid_1's l1: 0.10771\n",
      "[86000]\ttraining's l1: 0.0644221\tvalid_1's l1: 0.107708\n",
      "[88000]\ttraining's l1: 0.0640664\tvalid_1's l1: 0.107691\n",
      "[90000]\ttraining's l1: 0.0637147\tvalid_1's l1: 0.107681\n",
      "[92000]\ttraining's l1: 0.0634405\tvalid_1's l1: 0.107674\n",
      "[94000]\ttraining's l1: 0.0632108\tvalid_1's l1: 0.107656\n",
      "[96000]\ttraining's l1: 0.0629688\tvalid_1's l1: 0.107646\n",
      "[98000]\ttraining's l1: 0.0627107\tvalid_1's l1: 0.107641\n",
      "[100000]\ttraining's l1: 0.06245\tvalid_1's l1: 0.107627\n",
      "Did not meet early stopping. Best iteration is:\n",
      "[100000]\ttraining's l1: 0.06245\tvalid_1's l1: 0.107627\n",
      "456.37160281590485\n",
      "Training until validation scores don't improve for 1000 rounds\n",
      "[2000]\ttraining's l1: 0.108473\tvalid_1's l1: 0.116383\n",
      "[4000]\ttraining's l1: 0.100637\tvalid_1's l1: 0.112197\n",
      "[6000]\ttraining's l1: 0.096051\tvalid_1's l1: 0.110603\n",
      "[8000]\ttraining's l1: 0.092785\tvalid_1's l1: 0.109813\n",
      "[10000]\ttraining's l1: 0.0903189\tvalid_1's l1: 0.109296\n",
      "[12000]\ttraining's l1: 0.0882963\tvalid_1's l1: 0.10895\n",
      "[14000]\ttraining's l1: 0.0866282\tvalid_1's l1: 0.108677\n",
      "[16000]\ttraining's l1: 0.085203\tvalid_1's l1: 0.10847\n",
      "[18000]\ttraining's l1: 0.0838848\tvalid_1's l1: 0.10829\n",
      "[20000]\ttraining's l1: 0.0827254\tvalid_1's l1: 0.108143\n",
      "[22000]\ttraining's l1: 0.0816423\tvalid_1's l1: 0.108004\n",
      "[24000]\ttraining's l1: 0.0806961\tvalid_1's l1: 0.107895\n",
      "[26000]\ttraining's l1: 0.0798843\tvalid_1's l1: 0.107793\n",
      "[28000]\ttraining's l1: 0.0790771\tvalid_1's l1: 0.107721\n",
      "[30000]\ttraining's l1: 0.0783249\tvalid_1's l1: 0.107645\n",
      "[32000]\ttraining's l1: 0.0775652\tvalid_1's l1: 0.107586\n",
      "[34000]\ttraining's l1: 0.0768429\tvalid_1's l1: 0.107529\n",
      "[36000]\ttraining's l1: 0.0761623\tvalid_1's l1: 0.107475\n",
      "[38000]\ttraining's l1: 0.0754463\tvalid_1's l1: 0.107423\n",
      "[40000]\ttraining's l1: 0.0747537\tvalid_1's l1: 0.10738\n",
      "[42000]\ttraining's l1: 0.0742309\tvalid_1's l1: 0.107359\n",
      "[44000]\ttraining's l1: 0.0736752\tvalid_1's l1: 0.107324\n",
      "[46000]\ttraining's l1: 0.0731636\tvalid_1's l1: 0.107289\n",
      "[48000]\ttraining's l1: 0.0726074\tvalid_1's l1: 0.107257\n",
      "[50000]\ttraining's l1: 0.0720708\tvalid_1's l1: 0.107223\n",
      "[52000]\ttraining's l1: 0.0716354\tvalid_1's l1: 0.107198\n",
      "[54000]\ttraining's l1: 0.0711709\tvalid_1's l1: 0.107166\n",
      "[56000]\ttraining's l1: 0.0707267\tvalid_1's l1: 0.107143\n",
      "[58000]\ttraining's l1: 0.0702888\tvalid_1's l1: 0.10712\n",
      "[60000]\ttraining's l1: 0.0698038\tvalid_1's l1: 0.107102\n",
      "[62000]\ttraining's l1: 0.0692923\tvalid_1's l1: 0.107083\n",
      "[64000]\ttraining's l1: 0.0689478\tvalid_1's l1: 0.107068\n",
      "[66000]\ttraining's l1: 0.068566\tvalid_1's l1: 0.107059\n",
      "[68000]\ttraining's l1: 0.0681692\tvalid_1's l1: 0.107046\n",
      "[70000]\ttraining's l1: 0.0678173\tvalid_1's l1: 0.107028\n",
      "[72000]\ttraining's l1: 0.0674787\tvalid_1's l1: 0.107017\n",
      "[74000]\ttraining's l1: 0.0671685\tvalid_1's l1: 0.107005\n",
      "[76000]\ttraining's l1: 0.066834\tvalid_1's l1: 0.106989\n",
      "[78000]\ttraining's l1: 0.0664735\tvalid_1's l1: 0.106967\n",
      "[80000]\ttraining's l1: 0.0660455\tvalid_1's l1: 0.106942\n",
      "[82000]\ttraining's l1: 0.0656309\tvalid_1's l1: 0.106931\n",
      "[84000]\ttraining's l1: 0.0653527\tvalid_1's l1: 0.106922\n",
      "[86000]\ttraining's l1: 0.0650704\tvalid_1's l1: 0.106907\n",
      "Early stopping, best iteration is:\n",
      "[86520]\ttraining's l1: 0.0649966\tvalid_1's l1: 0.106901\n",
      "450.44698530096457\n",
      "Training until validation scores don't improve for 1000 rounds\n",
      "[2000]\ttraining's l1: 0.1082\tvalid_1's l1: 0.115941\n",
      "[4000]\ttraining's l1: 0.100241\tvalid_1's l1: 0.111858\n",
      "[6000]\ttraining's l1: 0.0956247\tvalid_1's l1: 0.110428\n",
      "[8000]\ttraining's l1: 0.0924921\tvalid_1's l1: 0.109677\n",
      "[10000]\ttraining's l1: 0.0899897\tvalid_1's l1: 0.1092\n",
      "[12000]\ttraining's l1: 0.0880688\tvalid_1's l1: 0.108892\n",
      "[14000]\ttraining's l1: 0.0863747\tvalid_1's l1: 0.108646\n",
      "[16000]\ttraining's l1: 0.0848316\tvalid_1's l1: 0.108437\n",
      "[18000]\ttraining's l1: 0.0835078\tvalid_1's l1: 0.108287\n",
      "[20000]\ttraining's l1: 0.0822966\tvalid_1's l1: 0.108153\n",
      "[22000]\ttraining's l1: 0.0812049\tvalid_1's l1: 0.108049\n",
      "[24000]\ttraining's l1: 0.080238\tvalid_1's l1: 0.107957\n",
      "[26000]\ttraining's l1: 0.0793547\tvalid_1's l1: 0.107887\n",
      "[28000]\ttraining's l1: 0.078497\tvalid_1's l1: 0.107825\n",
      "[30000]\ttraining's l1: 0.0777562\tvalid_1's l1: 0.10777\n",
      "[32000]\ttraining's l1: 0.0770779\tvalid_1's l1: 0.10772\n",
      "[34000]\ttraining's l1: 0.0763048\tvalid_1's l1: 0.107671\n",
      "[36000]\ttraining's l1: 0.0756133\tvalid_1's l1: 0.107627\n",
      "[38000]\ttraining's l1: 0.0748935\tvalid_1's l1: 0.10759\n",
      "[40000]\ttraining's l1: 0.0742946\tvalid_1's l1: 0.107562\n",
      "[42000]\ttraining's l1: 0.0738031\tvalid_1's l1: 0.107521\n",
      "[44000]\ttraining's l1: 0.073181\tvalid_1's l1: 0.10749\n",
      "[46000]\ttraining's l1: 0.0726081\tvalid_1's l1: 0.107466\n",
      "[48000]\ttraining's l1: 0.0720165\tvalid_1's l1: 0.107437\n",
      "[50000]\ttraining's l1: 0.0715438\tvalid_1's l1: 0.107421\n",
      "[52000]\ttraining's l1: 0.0711373\tvalid_1's l1: 0.107414\n",
      "[54000]\ttraining's l1: 0.0706679\tvalid_1's l1: 0.107398\n",
      "[56000]\ttraining's l1: 0.0702397\tvalid_1's l1: 0.107378\n",
      "[58000]\ttraining's l1: 0.0698402\tvalid_1's l1: 0.107363\n",
      "[60000]\ttraining's l1: 0.0694756\tvalid_1's l1: 0.107356\n",
      "[62000]\ttraining's l1: 0.0690947\tvalid_1's l1: 0.107341\n",
      "[64000]\ttraining's l1: 0.0686669\tvalid_1's l1: 0.107319\n",
      "[66000]\ttraining's l1: 0.0682302\tvalid_1's l1: 0.107308\n",
      "[68000]\ttraining's l1: 0.0678527\tvalid_1's l1: 0.107302\n",
      "[70000]\ttraining's l1: 0.0674528\tvalid_1's l1: 0.107298\n",
      "Early stopping, best iteration is:\n",
      "[69641]\ttraining's l1: 0.067557\tvalid_1's l1: 0.107294\n",
      "458.16896722767694\n",
      "Training until validation scores don't improve for 1000 rounds\n",
      "[2000]\ttraining's l1: 0.108288\tvalid_1's l1: 0.115558\n",
      "[4000]\ttraining's l1: 0.100418\tvalid_1's l1: 0.111416\n",
      "[6000]\ttraining's l1: 0.0958651\tvalid_1's l1: 0.109922\n",
      "[8000]\ttraining's l1: 0.0927298\tvalid_1's l1: 0.109148\n",
      "[10000]\ttraining's l1: 0.0904213\tvalid_1's l1: 0.108669\n",
      "[12000]\ttraining's l1: 0.088481\tvalid_1's l1: 0.108333\n",
      "[14000]\ttraining's l1: 0.0869227\tvalid_1's l1: 0.10809\n",
      "[16000]\ttraining's l1: 0.0855505\tvalid_1's l1: 0.10789\n",
      "[18000]\ttraining's l1: 0.0844376\tvalid_1's l1: 0.107726\n",
      "[20000]\ttraining's l1: 0.0832736\tvalid_1's l1: 0.107589\n",
      "[22000]\ttraining's l1: 0.0821257\tvalid_1's l1: 0.107482\n",
      "[24000]\ttraining's l1: 0.0811062\tvalid_1's l1: 0.107373\n",
      "[26000]\ttraining's l1: 0.0802112\tvalid_1's l1: 0.10729\n",
      "[28000]\ttraining's l1: 0.079247\tvalid_1's l1: 0.107207\n",
      "[30000]\ttraining's l1: 0.0784916\tvalid_1's l1: 0.107148\n",
      "[32000]\ttraining's l1: 0.0776052\tvalid_1's l1: 0.107089\n",
      "[34000]\ttraining's l1: 0.076838\tvalid_1's l1: 0.107024\n",
      "[36000]\ttraining's l1: 0.0761801\tvalid_1's l1: 0.106993\n",
      "[38000]\ttraining's l1: 0.0755147\tvalid_1's l1: 0.106948\n",
      "[40000]\ttraining's l1: 0.0747986\tvalid_1's l1: 0.106895\n",
      "[42000]\ttraining's l1: 0.0742174\tvalid_1's l1: 0.106857\n",
      "[44000]\ttraining's l1: 0.0735696\tvalid_1's l1: 0.106825\n",
      "[46000]\ttraining's l1: 0.0729569\tvalid_1's l1: 0.106805\n",
      "[48000]\ttraining's l1: 0.0723465\tvalid_1's l1: 0.106777\n",
      "[50000]\ttraining's l1: 0.0718246\tvalid_1's l1: 0.106759\n",
      "[52000]\ttraining's l1: 0.0712904\tvalid_1's l1: 0.106726\n",
      "[54000]\ttraining's l1: 0.0707863\tvalid_1's l1: 0.106706\n",
      "Early stopping, best iteration is:\n",
      "[53882]\ttraining's l1: 0.0708182\tvalid_1's l1: 0.106705\n",
      "464.00712123086197\n",
      "Training until validation scores don't improve for 1000 rounds\n",
      "[2000]\ttraining's l1: 0.108369\tvalid_1's l1: 0.115806\n",
      "[4000]\ttraining's l1: 0.100557\tvalid_1's l1: 0.111649\n",
      "[6000]\ttraining's l1: 0.0962338\tvalid_1's l1: 0.110162\n",
      "[8000]\ttraining's l1: 0.0931777\tvalid_1's l1: 0.109375\n",
      "[10000]\ttraining's l1: 0.0907461\tvalid_1's l1: 0.108875\n",
      "[12000]\ttraining's l1: 0.0886821\tvalid_1's l1: 0.108495\n",
      "[14000]\ttraining's l1: 0.0869227\tvalid_1's l1: 0.108217\n",
      "[16000]\ttraining's l1: 0.0854773\tvalid_1's l1: 0.108012\n",
      "[18000]\ttraining's l1: 0.08424\tvalid_1's l1: 0.107847\n",
      "[20000]\ttraining's l1: 0.0831465\tvalid_1's l1: 0.107713\n",
      "[22000]\ttraining's l1: 0.0820218\tvalid_1's l1: 0.107605\n",
      "[24000]\ttraining's l1: 0.0810625\tvalid_1's l1: 0.107503\n",
      "[26000]\ttraining's l1: 0.0801441\tvalid_1's l1: 0.107423\n",
      "[28000]\ttraining's l1: 0.0792604\tvalid_1's l1: 0.107337\n",
      "[30000]\ttraining's l1: 0.078386\tvalid_1's l1: 0.107266\n",
      "[32000]\ttraining's l1: 0.077632\tvalid_1's l1: 0.107213\n",
      "[34000]\ttraining's l1: 0.0769348\tvalid_1's l1: 0.10715\n",
      "[36000]\ttraining's l1: 0.0762875\tvalid_1's l1: 0.107105\n",
      "[38000]\ttraining's l1: 0.0755791\tvalid_1's l1: 0.107071\n",
      "[40000]\ttraining's l1: 0.0749127\tvalid_1's l1: 0.107039\n",
      "[42000]\ttraining's l1: 0.0740866\tvalid_1's l1: 0.107017\n",
      "[44000]\ttraining's l1: 0.0734378\tvalid_1's l1: 0.106992\n",
      "[46000]\ttraining's l1: 0.072825\tvalid_1's l1: 0.106983\n",
      "[48000]\ttraining's l1: 0.0722484\tvalid_1's l1: 0.106953\n",
      "[50000]\ttraining's l1: 0.0715416\tvalid_1's l1: 0.106931\n",
      "[52000]\ttraining's l1: 0.0710031\tvalid_1's l1: 0.106908\n",
      "[54000]\ttraining's l1: 0.0704905\tvalid_1's l1: 0.106891\n",
      "Early stopping, best iteration is:\n",
      "[54540]\ttraining's l1: 0.0703757\tvalid_1's l1: 0.106883\n",
      "452.4621015955487\n"
     ]
    }
   ],
   "source": [
    "score = lgb_cv()"
   ]
  },
  {
   "cell_type": "code",
   "execution_count": 15,
   "metadata": {},
   "outputs": [
    {
     "name": "stdout",
     "output_type": "stream",
     "text": [
      "lightgbm score: 456.29135563419146\n"
     ]
    }
   ],
   "source": [
    "print('lightgbm score: ' + str(score))"
   ]
  },
  {
   "cell_type": "code",
   "execution_count": null,
   "metadata": {
    "jupyter": {
     "source_hidden": true
    }
   },
   "outputs": [],
   "source": [
    "train_ids = []\n",
    "valid_ids = []\n",
    "for train_id, valid_id in kf.split(X_train, y_train):\n",
    "    train_ids.append(train_id)\n",
    "    valid_ids.append(valid_id)"
   ]
  },
  {
   "cell_type": "code",
   "execution_count": null,
   "metadata": {
    "jupyter": {
     "source_hidden": true
    }
   },
   "outputs": [],
   "source": [
    "def lgb_cv_0(params_opt=params.copy()):\n",
    "    params_dict = params.copy()\n",
    "    params_dict.update(params_opt)\n",
    "    num_boost_round = params_dict['num_boost_round']\n",
    "    params_dict_x = params_x.copy()\n",
    "    params_dict_x.update(params_opt)\n",
    "    train_id = train_ids[0]\n",
    "    valid_id = valid_ids[0]\n",
    "    train_data = lgb.Dataset(X_train.iloc[train_id], y_train.iloc[train_id])\n",
    "    valid_data = lgb.Dataset(X_train.iloc[valid_id], y_train.iloc[valid_id])\n",
    "    model = lgb.train(params_dict_x, train_data, num_boost_round, [train_data, valid_data],\n",
    "                      verbose_eval=10**3, early_stopping_rounds=5*10**2)\n",
    "    oof[valid_id] = model.predict(X_train.iloc[valid_id], num_iteration=model.best_iteration)\n",
    "    score = mean_absolute_error(np.expm1(oof.iloc[valid_id]), np.expm1(y_train.iloc[valid_id]))\n",
    "    return score"
   ]
  },
  {
   "cell_type": "code",
   "execution_count": null,
   "metadata": {
    "jupyter": {
     "source_hidden": true
    }
   },
   "outputs": [],
   "source": [
    "params_opt = {\n",
    "#               'num_boost_round': hp.choice('num_boost_round', range(10, 10^4+1)), \n",
    "#               'learning_rate': hp.uniform('learning_rate', 0.01, 10),\n",
    "              'num_leaves': hp.randint('num_leaves', 5, 100+1),\n",
    "              'max_depth': hp.randint('max_depth', 1, 10+1),\n",
    "#               'min_data_in_leaf': (10, 1000),\n",
    "#               'bagging_fraction': (0.01, 1),\n",
    "#               'bagging_freq': (1, 1000),\n",
    "#               'feature_fraction': (0.01, 1),\n",
    "#               'lambda_l2': (0.01, 100),\n",
    "#               'max_bin': (10, 1000)\n",
    "              }"
   ]
  },
  {
   "cell_type": "code",
   "execution_count": null,
   "metadata": {
    "jupyter": {
     "source_hidden": true
    }
   },
   "outputs": [],
   "source": [
    "best = fmin(fn=lgb_cv_0,\n",
    "            space=params_opt,\n",
    "            algo=tpe.suggest,\n",
    "            max_evals=25)"
   ]
  },
  {
   "cell_type": "code",
   "execution_count": null,
   "metadata": {
    "jupyter": {
     "source_hidden": true
    }
   },
   "outputs": [],
   "source": [
    "print('best: ' + str(best))"
   ]
  },
  {
   "cell_type": "code",
   "execution_count": null,
   "metadata": {
    "jupyter": {
     "source_hidden": true
    }
   },
   "outputs": [],
   "source": [
    "best['learning_rate'] = 0.5"
   ]
  },
  {
   "cell_type": "code",
   "execution_count": null,
   "metadata": {
    "jupyter": {
     "source_hidden": true
    }
   },
   "outputs": [],
   "source": [
    "score = lgb_cv(best)"
   ]
  },
  {
   "cell_type": "code",
   "execution_count": null,
   "metadata": {
    "jupyter": {
     "source_hidden": true
    }
   },
   "outputs": [],
   "source": [
    "print('lightgbm score: ' + str(score))"
   ]
  },
  {
   "cell_type": "code",
   "execution_count": null,
   "metadata": {
    "jupyter": {
     "source_hidden": true
    }
   },
   "outputs": [],
   "source": [
    "for train_id, valid_id in kf.split(X_train, y_train):\n",
    "    train_data = lgb.Dataset(X_train[train_id], y_train[train_id])\n",
    "    valid_data = lgb.Dataset(X_train[valid_id], y_train[valid_id])\n",
    "    num_round = 10^3\n",
    "    model = lgb.train(params, train_data, num_round, valid_sets=[train_data, valid_data],\n",
    "                      verbose_eval=num_round*10, early_stopping_rounds=10^2, feval=myFeval)\n",
    "    oof[valid_id] = model.predict(X_train[valid_id], num_iteration=model.best_iteration)\n",
    "    prediction += model.predict(X_test, num_iteration=model.best_iteration) / kf.n_splits\n",
    "features = train.columns.to_list()\n",
    "features.remove('price')\n",
    "features_importance = pd.DataFrame({'importance': model.feature_importance()}, index=features).sort_values(by='importance', ascending=False)"
   ]
  },
  {
   "cell_type": "code",
   "execution_count": null,
   "metadata": {
    "jupyter": {
     "source_hidden": true
    }
   },
   "outputs": [],
   "source": [
    "print(\"lightgbm score: {:<8.2f}\".format(mean_absolute_error(np.expm1(oof), np.expm1(y_train))))"
   ]
  },
  {
   "cell_type": "markdown",
   "metadata": {},
   "source": [
    "#### **预测结果**"
   ]
  },
  {
   "cell_type": "code",
   "execution_count": 16,
   "metadata": {},
   "outputs": [
    {
     "data": {
      "text/plain": [
       "<AxesSubplot:>"
      ]
     },
     "execution_count": 16,
     "metadata": {},
     "output_type": "execute_result"
    },
    {
     "data": {
      "image/png": "[encoded data removed]",
      "text/plain": [
       "<Figure size 360x360 with 1 Axes>"
      ]
     },
     "metadata": {
      "needs_background": "light"
     },
     "output_type": "display_data"
    }
   ],
   "source": [
    "fig, ax = plt.subplots(figsize=(5, 5))\n",
    "sns.distplot(np.expm1(prediction))"
   ]
  },
  {
   "cell_type": "code",
   "execution_count": 17,
   "metadata": {},
   "outputs": [],
   "source": [
    "path = 'C:/Users/Fz/Fz/二手车交易价格预测/'\n",
    "test_0 = pd.read_csv(path+'used_car_testB_20200421.csv', sep=' ', encoding='utf-8', engine='python')"
   ]
  },
  {
   "cell_type": "code",
   "execution_count": 18,
   "metadata": {},
   "outputs": [],
   "source": [
    "submission = test_0[['SaleID']].copy()\n",
    "submission['price'] = np.expm1(prediction)"
   ]
  },
  {
   "cell_type": "code",
   "execution_count": 19,
   "metadata": {},
   "outputs": [],
   "source": [
    "submission.to_csv(path+'submission.csv', index=False)"
   ]
  },
  {
   "cell_type": "code",
   "execution_count": null,
   "metadata": {},
   "outputs": [],
   "source": []
  }
 ],
 "metadata": {
  "kernelspec": {
   "display_name": "Python 3",
   "language": "python",
   "name": "python3"
  },
  "language_info": {
   "codemirror_mode": {
    "name": "ipython",
    "version": 3
   },
   "file_extension": ".py",
   "mimetype": "text/x-python",
   "name": "python",
   "nbconvert_exporter": "python",
   "pygments_lexer": "ipython3",
   "version": "3.7.8"
  }
 },
 "nbformat": 4,
 "nbformat_minor": 4
}
