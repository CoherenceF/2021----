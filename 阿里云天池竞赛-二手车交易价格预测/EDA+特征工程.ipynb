{
 "cells": [
  {
   "cell_type": "code",
   "execution_count": 1,
   "metadata": {},
   "outputs": [],
   "source": [
    "import numpy as np\n",
    "import pandas as pd\n",
    "import matplotlib.pyplot as plt\n",
    "%matplotlib inline\n",
    "import seaborn as sns"
   ]
  },
  {
   "cell_type": "code",
   "execution_count": 2,
   "metadata": {},
   "outputs": [],
   "source": [
    "# 加载数据\n",
    "path = 'C:/Users/Fz/Fz/二手车交易价格预测/'\n",
    "train_0 = pd.read_csv(path+'used_car_train_20200313.csv', sep=' ', encoding='utf-8', engine='python')\n",
    "test_0 = pd.read_csv(path+'used_car_testB_20200421.csv', sep=' ', encoding='utf-8', engine='python')\n",
    "train = train_0.copy()\n",
    "test = test_0.copy()"
   ]
  },
  {
   "cell_type": "code",
   "execution_count": 3,
   "metadata": {},
   "outputs": [
    {
     "data": {
      "text/html": [
       "<div>\n",
       "<style scoped>\n",
       "    .dataframe tbody tr th:only-of-type {\n",
       "        vertical-align: middle;\n",
       "    }\n",
       "\n",
       "    .dataframe tbody tr th {\n",
       "        vertical-align: top;\n",
       "    }\n",
       "\n",
       "    .dataframe thead th {\n",
       "        text-align: right;\n",
       "    }\n",
       "</style>\n",
       "<table border=\"1\" class=\"dataframe\">\n",
       "  <thead>\n",
       "    <tr style=\"text-align: right;\">\n",
       "      <th></th>\n",
       "      <th>0</th>\n",
       "      <th>1</th>\n",
       "      <th>2</th>\n",
       "      <th>3</th>\n",
       "      <th>4</th>\n",
       "    </tr>\n",
       "  </thead>\n",
       "  <tbody>\n",
       "    <tr>\n",
       "      <th>SaleID</th>\n",
       "      <td>0</td>\n",
       "      <td>1</td>\n",
       "      <td>2</td>\n",
       "      <td>3</td>\n",
       "      <td>4</td>\n",
       "    </tr>\n",
       "    <tr>\n",
       "      <th>name</th>\n",
       "      <td>736</td>\n",
       "      <td>2262</td>\n",
       "      <td>14874</td>\n",
       "      <td>71865</td>\n",
       "      <td>111080</td>\n",
       "    </tr>\n",
       "    <tr>\n",
       "      <th>regDate</th>\n",
       "      <td>20040402</td>\n",
       "      <td>20030301</td>\n",
       "      <td>20040403</td>\n",
       "      <td>19960908</td>\n",
       "      <td>20120103</td>\n",
       "    </tr>\n",
       "    <tr>\n",
       "      <th>model</th>\n",
       "      <td>30</td>\n",
       "      <td>40</td>\n",
       "      <td>115</td>\n",
       "      <td>109</td>\n",
       "      <td>110</td>\n",
       "    </tr>\n",
       "    <tr>\n",
       "      <th>brand</th>\n",
       "      <td>6</td>\n",
       "      <td>1</td>\n",
       "      <td>15</td>\n",
       "      <td>10</td>\n",
       "      <td>5</td>\n",
       "    </tr>\n",
       "    <tr>\n",
       "      <th>bodyType</th>\n",
       "      <td>1</td>\n",
       "      <td>2</td>\n",
       "      <td>1</td>\n",
       "      <td>0</td>\n",
       "      <td>1</td>\n",
       "    </tr>\n",
       "    <tr>\n",
       "      <th>fuelType</th>\n",
       "      <td>0</td>\n",
       "      <td>0</td>\n",
       "      <td>0</td>\n",
       "      <td>0</td>\n",
       "      <td>0</td>\n",
       "    </tr>\n",
       "    <tr>\n",
       "      <th>gearbox</th>\n",
       "      <td>0</td>\n",
       "      <td>0</td>\n",
       "      <td>0</td>\n",
       "      <td>1</td>\n",
       "      <td>0</td>\n",
       "    </tr>\n",
       "    <tr>\n",
       "      <th>power</th>\n",
       "      <td>60</td>\n",
       "      <td>0</td>\n",
       "      <td>163</td>\n",
       "      <td>193</td>\n",
       "      <td>68</td>\n",
       "    </tr>\n",
       "    <tr>\n",
       "      <th>kilometer</th>\n",
       "      <td>12.5</td>\n",
       "      <td>15</td>\n",
       "      <td>12.5</td>\n",
       "      <td>15</td>\n",
       "      <td>5</td>\n",
       "    </tr>\n",
       "    <tr>\n",
       "      <th>notRepairedDamage</th>\n",
       "      <td>0.0</td>\n",
       "      <td>-</td>\n",
       "      <td>0.0</td>\n",
       "      <td>0.0</td>\n",
       "      <td>0.0</td>\n",
       "    </tr>\n",
       "    <tr>\n",
       "      <th>regionCode</th>\n",
       "      <td>1046</td>\n",
       "      <td>4366</td>\n",
       "      <td>2806</td>\n",
       "      <td>434</td>\n",
       "      <td>6977</td>\n",
       "    </tr>\n",
       "    <tr>\n",
       "      <th>seller</th>\n",
       "      <td>0</td>\n",
       "      <td>0</td>\n",
       "      <td>0</td>\n",
       "      <td>0</td>\n",
       "      <td>0</td>\n",
       "    </tr>\n",
       "    <tr>\n",
       "      <th>offerType</th>\n",
       "      <td>0</td>\n",
       "      <td>0</td>\n",
       "      <td>0</td>\n",
       "      <td>0</td>\n",
       "      <td>0</td>\n",
       "    </tr>\n",
       "    <tr>\n",
       "      <th>creatDate</th>\n",
       "      <td>20160404</td>\n",
       "      <td>20160309</td>\n",
       "      <td>20160402</td>\n",
       "      <td>20160312</td>\n",
       "      <td>20160313</td>\n",
       "    </tr>\n",
       "    <tr>\n",
       "      <th>price</th>\n",
       "      <td>1850</td>\n",
       "      <td>3600</td>\n",
       "      <td>6222</td>\n",
       "      <td>2400</td>\n",
       "      <td>5200</td>\n",
       "    </tr>\n",
       "    <tr>\n",
       "      <th>v_0</th>\n",
       "      <td>43.3578</td>\n",
       "      <td>45.3053</td>\n",
       "      <td>45.9784</td>\n",
       "      <td>45.6875</td>\n",
       "      <td>44.3835</td>\n",
       "    </tr>\n",
       "    <tr>\n",
       "      <th>v_1</th>\n",
       "      <td>3.96634</td>\n",
       "      <td>5.23611</td>\n",
       "      <td>4.82379</td>\n",
       "      <td>4.49257</td>\n",
       "      <td>2.03143</td>\n",
       "    </tr>\n",
       "    <tr>\n",
       "      <th>v_2</th>\n",
       "      <td>0.0502571</td>\n",
       "      <td>0.137925</td>\n",
       "      <td>1.31952</td>\n",
       "      <td>-0.0506158</td>\n",
       "      <td>0.572169</td>\n",
       "    </tr>\n",
       "    <tr>\n",
       "      <th>v_3</th>\n",
       "      <td>2.15974</td>\n",
       "      <td>1.38066</td>\n",
       "      <td>-0.998467</td>\n",
       "      <td>0.8836</td>\n",
       "      <td>-1.57124</td>\n",
       "    </tr>\n",
       "    <tr>\n",
       "      <th>v_4</th>\n",
       "      <td>1.14379</td>\n",
       "      <td>-1.42216</td>\n",
       "      <td>-0.996911</td>\n",
       "      <td>-2.22808</td>\n",
       "      <td>2.24609</td>\n",
       "    </tr>\n",
       "    <tr>\n",
       "      <th>v_5</th>\n",
       "      <td>0.235676</td>\n",
       "      <td>0.264777</td>\n",
       "      <td>0.25141</td>\n",
       "      <td>0.274293</td>\n",
       "      <td>0.228036</td>\n",
       "    </tr>\n",
       "    <tr>\n",
       "      <th>v_6</th>\n",
       "      <td>0.101988</td>\n",
       "      <td>0.121004</td>\n",
       "      <td>0.114912</td>\n",
       "      <td>0.1103</td>\n",
       "      <td>0.0732051</td>\n",
       "    </tr>\n",
       "    <tr>\n",
       "      <th>v_7</th>\n",
       "      <td>0.129549</td>\n",
       "      <td>0.135731</td>\n",
       "      <td>0.165147</td>\n",
       "      <td>0.121964</td>\n",
       "      <td>0.0918805</td>\n",
       "    </tr>\n",
       "    <tr>\n",
       "      <th>v_8</th>\n",
       "      <td>0.0228164</td>\n",
       "      <td>0.0265974</td>\n",
       "      <td>0.0621728</td>\n",
       "      <td>0.0333945</td>\n",
       "      <td>0.0788194</td>\n",
       "    </tr>\n",
       "    <tr>\n",
       "      <th>v_9</th>\n",
       "      <td>0.0974618</td>\n",
       "      <td>0.0205817</td>\n",
       "      <td>0.0270748</td>\n",
       "      <td>0</td>\n",
       "      <td>0.121534</td>\n",
       "    </tr>\n",
       "    <tr>\n",
       "      <th>v_10</th>\n",
       "      <td>-2.8818</td>\n",
       "      <td>-4.90048</td>\n",
       "      <td>-4.84675</td>\n",
       "      <td>-4.5096</td>\n",
       "      <td>-1.89624</td>\n",
       "    </tr>\n",
       "    <tr>\n",
       "      <th>v_11</th>\n",
       "      <td>2.8041</td>\n",
       "      <td>2.09634</td>\n",
       "      <td>1.80356</td>\n",
       "      <td>1.28594</td>\n",
       "      <td>0.910783</td>\n",
       "    </tr>\n",
       "    <tr>\n",
       "      <th>v_12</th>\n",
       "      <td>-2.42082</td>\n",
       "      <td>-1.03048</td>\n",
       "      <td>1.56533</td>\n",
       "      <td>-0.501868</td>\n",
       "      <td>0.93111</td>\n",
       "    </tr>\n",
       "    <tr>\n",
       "      <th>v_13</th>\n",
       "      <td>0.795292</td>\n",
       "      <td>-1.72267</td>\n",
       "      <td>-0.832687</td>\n",
       "      <td>-2.43835</td>\n",
       "      <td>2.83452</td>\n",
       "    </tr>\n",
       "    <tr>\n",
       "      <th>v_14</th>\n",
       "      <td>0.914762</td>\n",
       "      <td>0.245522</td>\n",
       "      <td>-0.229963</td>\n",
       "      <td>-0.478699</td>\n",
       "      <td>1.92348</td>\n",
       "    </tr>\n",
       "  </tbody>\n",
       "</table>\n",
       "</div>"
      ],
      "text/plain": [
       "                           0          1          2          3          4\n",
       "SaleID                     0          1          2          3          4\n",
       "name                     736       2262      14874      71865     111080\n",
       "regDate             20040402   20030301   20040403   19960908   20120103\n",
       "model                     30         40        115        109        110\n",
       "brand                      6          1         15         10          5\n",
       "bodyType                   1          2          1          0          1\n",
       "fuelType                   0          0          0          0          0\n",
       "gearbox                    0          0          0          1          0\n",
       "power                     60          0        163        193         68\n",
       "kilometer               12.5         15       12.5         15          5\n",
       "notRepairedDamage        0.0          -        0.0        0.0        0.0\n",
       "regionCode              1046       4366       2806        434       6977\n",
       "seller                     0          0          0          0          0\n",
       "offerType                  0          0          0          0          0\n",
       "creatDate           20160404   20160309   20160402   20160312   20160313\n",
       "price                   1850       3600       6222       2400       5200\n",
       "v_0                  43.3578    45.3053    45.9784    45.6875    44.3835\n",
       "v_1                  3.96634    5.23611    4.82379    4.49257    2.03143\n",
       "v_2                0.0502571   0.137925    1.31952 -0.0506158   0.572169\n",
       "v_3                  2.15974    1.38066  -0.998467     0.8836   -1.57124\n",
       "v_4                  1.14379   -1.42216  -0.996911   -2.22808    2.24609\n",
       "v_5                 0.235676   0.264777    0.25141   0.274293   0.228036\n",
       "v_6                 0.101988   0.121004   0.114912     0.1103  0.0732051\n",
       "v_7                 0.129549   0.135731   0.165147   0.121964  0.0918805\n",
       "v_8                0.0228164  0.0265974  0.0621728  0.0333945  0.0788194\n",
       "v_9                0.0974618  0.0205817  0.0270748          0   0.121534\n",
       "v_10                 -2.8818   -4.90048   -4.84675    -4.5096   -1.89624\n",
       "v_11                  2.8041    2.09634    1.80356    1.28594   0.910783\n",
       "v_12                -2.42082   -1.03048    1.56533  -0.501868    0.93111\n",
       "v_13                0.795292   -1.72267  -0.832687   -2.43835    2.83452\n",
       "v_14                0.914762   0.245522  -0.229963  -0.478699    1.92348"
      ]
     },
     "execution_count": 3,
     "metadata": {},
     "output_type": "execute_result"
    }
   ],
   "source": [
    "train.head(5).T"
   ]
  },
  {
   "cell_type": "code",
   "execution_count": 4,
   "metadata": {},
   "outputs": [
    {
     "data": {
      "text/html": [
       "<div>\n",
       "<style scoped>\n",
       "    .dataframe tbody tr th:only-of-type {\n",
       "        vertical-align: middle;\n",
       "    }\n",
       "\n",
       "    .dataframe tbody tr th {\n",
       "        vertical-align: top;\n",
       "    }\n",
       "\n",
       "    .dataframe thead th {\n",
       "        text-align: right;\n",
       "    }\n",
       "</style>\n",
       "<table border=\"1\" class=\"dataframe\">\n",
       "  <thead>\n",
       "    <tr style=\"text-align: right;\">\n",
       "      <th></th>\n",
       "      <th>count</th>\n",
       "      <th>mean</th>\n",
       "      <th>std</th>\n",
       "      <th>min</th>\n",
       "      <th>25%</th>\n",
       "      <th>50%</th>\n",
       "      <th>75%</th>\n",
       "      <th>max</th>\n",
       "    </tr>\n",
       "  </thead>\n",
       "  <tbody>\n",
       "    <tr>\n",
       "      <th>SaleID</th>\n",
       "      <td>150000.0</td>\n",
       "      <td>7.499950e+04</td>\n",
       "      <td>43301.414527</td>\n",
       "      <td>0.000000e+00</td>\n",
       "      <td>3.749975e+04</td>\n",
       "      <td>7.499950e+04</td>\n",
       "      <td>1.124992e+05</td>\n",
       "      <td>1.499990e+05</td>\n",
       "    </tr>\n",
       "    <tr>\n",
       "      <th>name</th>\n",
       "      <td>150000.0</td>\n",
       "      <td>6.834917e+04</td>\n",
       "      <td>61103.875095</td>\n",
       "      <td>0.000000e+00</td>\n",
       "      <td>1.115600e+04</td>\n",
       "      <td>5.163800e+04</td>\n",
       "      <td>1.188412e+05</td>\n",
       "      <td>1.968120e+05</td>\n",
       "    </tr>\n",
       "    <tr>\n",
       "      <th>regDate</th>\n",
       "      <td>150000.0</td>\n",
       "      <td>2.003417e+07</td>\n",
       "      <td>53649.879255</td>\n",
       "      <td>1.991000e+07</td>\n",
       "      <td>1.999091e+07</td>\n",
       "      <td>2.003091e+07</td>\n",
       "      <td>2.007111e+07</td>\n",
       "      <td>2.015121e+07</td>\n",
       "    </tr>\n",
       "    <tr>\n",
       "      <th>model</th>\n",
       "      <td>149999.0</td>\n",
       "      <td>4.712902e+01</td>\n",
       "      <td>49.536040</td>\n",
       "      <td>0.000000e+00</td>\n",
       "      <td>1.000000e+01</td>\n",
       "      <td>3.000000e+01</td>\n",
       "      <td>6.600000e+01</td>\n",
       "      <td>2.470000e+02</td>\n",
       "    </tr>\n",
       "    <tr>\n",
       "      <th>brand</th>\n",
       "      <td>150000.0</td>\n",
       "      <td>8.052733e+00</td>\n",
       "      <td>7.864956</td>\n",
       "      <td>0.000000e+00</td>\n",
       "      <td>1.000000e+00</td>\n",
       "      <td>6.000000e+00</td>\n",
       "      <td>1.300000e+01</td>\n",
       "      <td>3.900000e+01</td>\n",
       "    </tr>\n",
       "    <tr>\n",
       "      <th>bodyType</th>\n",
       "      <td>145494.0</td>\n",
       "      <td>1.792369e+00</td>\n",
       "      <td>1.760640</td>\n",
       "      <td>0.000000e+00</td>\n",
       "      <td>0.000000e+00</td>\n",
       "      <td>1.000000e+00</td>\n",
       "      <td>3.000000e+00</td>\n",
       "      <td>7.000000e+00</td>\n",
       "    </tr>\n",
       "    <tr>\n",
       "      <th>fuelType</th>\n",
       "      <td>141320.0</td>\n",
       "      <td>3.758421e-01</td>\n",
       "      <td>0.548677</td>\n",
       "      <td>0.000000e+00</td>\n",
       "      <td>0.000000e+00</td>\n",
       "      <td>0.000000e+00</td>\n",
       "      <td>1.000000e+00</td>\n",
       "      <td>6.000000e+00</td>\n",
       "    </tr>\n",
       "    <tr>\n",
       "      <th>gearbox</th>\n",
       "      <td>144019.0</td>\n",
       "      <td>2.249425e-01</td>\n",
       "      <td>0.417546</td>\n",
       "      <td>0.000000e+00</td>\n",
       "      <td>0.000000e+00</td>\n",
       "      <td>0.000000e+00</td>\n",
       "      <td>0.000000e+00</td>\n",
       "      <td>1.000000e+00</td>\n",
       "    </tr>\n",
       "    <tr>\n",
       "      <th>power</th>\n",
       "      <td>150000.0</td>\n",
       "      <td>1.193165e+02</td>\n",
       "      <td>177.168419</td>\n",
       "      <td>0.000000e+00</td>\n",
       "      <td>7.500000e+01</td>\n",
       "      <td>1.100000e+02</td>\n",
       "      <td>1.500000e+02</td>\n",
       "      <td>1.931200e+04</td>\n",
       "    </tr>\n",
       "    <tr>\n",
       "      <th>kilometer</th>\n",
       "      <td>150000.0</td>\n",
       "      <td>1.259716e+01</td>\n",
       "      <td>3.919576</td>\n",
       "      <td>5.000000e-01</td>\n",
       "      <td>1.250000e+01</td>\n",
       "      <td>1.500000e+01</td>\n",
       "      <td>1.500000e+01</td>\n",
       "      <td>1.500000e+01</td>\n",
       "    </tr>\n",
       "    <tr>\n",
       "      <th>regionCode</th>\n",
       "      <td>150000.0</td>\n",
       "      <td>2.583077e+03</td>\n",
       "      <td>1885.363218</td>\n",
       "      <td>0.000000e+00</td>\n",
       "      <td>1.018000e+03</td>\n",
       "      <td>2.196000e+03</td>\n",
       "      <td>3.843000e+03</td>\n",
       "      <td>8.120000e+03</td>\n",
       "    </tr>\n",
       "    <tr>\n",
       "      <th>seller</th>\n",
       "      <td>150000.0</td>\n",
       "      <td>6.666667e-06</td>\n",
       "      <td>0.002582</td>\n",
       "      <td>0.000000e+00</td>\n",
       "      <td>0.000000e+00</td>\n",
       "      <td>0.000000e+00</td>\n",
       "      <td>0.000000e+00</td>\n",
       "      <td>1.000000e+00</td>\n",
       "    </tr>\n",
       "    <tr>\n",
       "      <th>offerType</th>\n",
       "      <td>150000.0</td>\n",
       "      <td>0.000000e+00</td>\n",
       "      <td>0.000000</td>\n",
       "      <td>0.000000e+00</td>\n",
       "      <td>0.000000e+00</td>\n",
       "      <td>0.000000e+00</td>\n",
       "      <td>0.000000e+00</td>\n",
       "      <td>0.000000e+00</td>\n",
       "    </tr>\n",
       "    <tr>\n",
       "      <th>creatDate</th>\n",
       "      <td>150000.0</td>\n",
       "      <td>2.016033e+07</td>\n",
       "      <td>106.732809</td>\n",
       "      <td>2.015062e+07</td>\n",
       "      <td>2.016031e+07</td>\n",
       "      <td>2.016032e+07</td>\n",
       "      <td>2.016033e+07</td>\n",
       "      <td>2.016041e+07</td>\n",
       "    </tr>\n",
       "    <tr>\n",
       "      <th>price</th>\n",
       "      <td>150000.0</td>\n",
       "      <td>5.923327e+03</td>\n",
       "      <td>7501.998477</td>\n",
       "      <td>1.100000e+01</td>\n",
       "      <td>1.300000e+03</td>\n",
       "      <td>3.250000e+03</td>\n",
       "      <td>7.700000e+03</td>\n",
       "      <td>9.999900e+04</td>\n",
       "    </tr>\n",
       "    <tr>\n",
       "      <th>v_0</th>\n",
       "      <td>150000.0</td>\n",
       "      <td>4.440627e+01</td>\n",
       "      <td>2.457548</td>\n",
       "      <td>3.045198e+01</td>\n",
       "      <td>4.313580e+01</td>\n",
       "      <td>4.461027e+01</td>\n",
       "      <td>4.600472e+01</td>\n",
       "      <td>5.230418e+01</td>\n",
       "    </tr>\n",
       "    <tr>\n",
       "      <th>v_1</th>\n",
       "      <td>150000.0</td>\n",
       "      <td>-4.480912e-02</td>\n",
       "      <td>3.641893</td>\n",
       "      <td>-4.295589e+00</td>\n",
       "      <td>-3.192349e+00</td>\n",
       "      <td>-3.052671e+00</td>\n",
       "      <td>4.000670e+00</td>\n",
       "      <td>7.320308e+00</td>\n",
       "    </tr>\n",
       "    <tr>\n",
       "      <th>v_2</th>\n",
       "      <td>150000.0</td>\n",
       "      <td>8.076506e-02</td>\n",
       "      <td>2.929618</td>\n",
       "      <td>-4.470671e+00</td>\n",
       "      <td>-9.706712e-01</td>\n",
       "      <td>-3.829469e-01</td>\n",
       "      <td>2.413349e-01</td>\n",
       "      <td>1.903550e+01</td>\n",
       "    </tr>\n",
       "    <tr>\n",
       "      <th>v_3</th>\n",
       "      <td>150000.0</td>\n",
       "      <td>7.883342e-02</td>\n",
       "      <td>2.026514</td>\n",
       "      <td>-7.275037e+00</td>\n",
       "      <td>-1.462580e+00</td>\n",
       "      <td>9.972198e-02</td>\n",
       "      <td>1.565838e+00</td>\n",
       "      <td>9.854702e+00</td>\n",
       "    </tr>\n",
       "    <tr>\n",
       "      <th>v_4</th>\n",
       "      <td>150000.0</td>\n",
       "      <td>1.787461e-02</td>\n",
       "      <td>1.193661</td>\n",
       "      <td>-4.364565e+00</td>\n",
       "      <td>-9.211915e-01</td>\n",
       "      <td>-7.591043e-02</td>\n",
       "      <td>8.687584e-01</td>\n",
       "      <td>6.829352e+00</td>\n",
       "    </tr>\n",
       "    <tr>\n",
       "      <th>v_5</th>\n",
       "      <td>150000.0</td>\n",
       "      <td>2.482035e-01</td>\n",
       "      <td>0.045804</td>\n",
       "      <td>0.000000e+00</td>\n",
       "      <td>2.436154e-01</td>\n",
       "      <td>2.577980e-01</td>\n",
       "      <td>2.652973e-01</td>\n",
       "      <td>2.918381e-01</td>\n",
       "    </tr>\n",
       "    <tr>\n",
       "      <th>v_6</th>\n",
       "      <td>150000.0</td>\n",
       "      <td>4.492300e-02</td>\n",
       "      <td>0.051743</td>\n",
       "      <td>0.000000e+00</td>\n",
       "      <td>3.811100e-05</td>\n",
       "      <td>8.120586e-04</td>\n",
       "      <td>1.020093e-01</td>\n",
       "      <td>1.514196e-01</td>\n",
       "    </tr>\n",
       "    <tr>\n",
       "      <th>v_7</th>\n",
       "      <td>150000.0</td>\n",
       "      <td>1.246925e-01</td>\n",
       "      <td>0.201410</td>\n",
       "      <td>0.000000e+00</td>\n",
       "      <td>6.247353e-02</td>\n",
       "      <td>9.586590e-02</td>\n",
       "      <td>1.252429e-01</td>\n",
       "      <td>1.404936e+00</td>\n",
       "    </tr>\n",
       "    <tr>\n",
       "      <th>v_8</th>\n",
       "      <td>150000.0</td>\n",
       "      <td>5.814385e-02</td>\n",
       "      <td>0.029186</td>\n",
       "      <td>0.000000e+00</td>\n",
       "      <td>3.533369e-02</td>\n",
       "      <td>5.701360e-02</td>\n",
       "      <td>7.938157e-02</td>\n",
       "      <td>1.607910e-01</td>\n",
       "    </tr>\n",
       "    <tr>\n",
       "      <th>v_9</th>\n",
       "      <td>150000.0</td>\n",
       "      <td>6.199589e-02</td>\n",
       "      <td>0.035692</td>\n",
       "      <td>0.000000e+00</td>\n",
       "      <td>3.393018e-02</td>\n",
       "      <td>5.848367e-02</td>\n",
       "      <td>8.749055e-02</td>\n",
       "      <td>2.227875e-01</td>\n",
       "    </tr>\n",
       "    <tr>\n",
       "      <th>v_10</th>\n",
       "      <td>150000.0</td>\n",
       "      <td>-1.000239e-03</td>\n",
       "      <td>3.772386</td>\n",
       "      <td>-9.168192e+00</td>\n",
       "      <td>-3.722303e+00</td>\n",
       "      <td>1.624076e+00</td>\n",
       "      <td>2.844357e+00</td>\n",
       "      <td>1.235701e+01</td>\n",
       "    </tr>\n",
       "    <tr>\n",
       "      <th>v_11</th>\n",
       "      <td>150000.0</td>\n",
       "      <td>9.034543e-03</td>\n",
       "      <td>3.286071</td>\n",
       "      <td>-5.558207e+00</td>\n",
       "      <td>-1.951543e+00</td>\n",
       "      <td>-3.580527e-01</td>\n",
       "      <td>1.255022e+00</td>\n",
       "      <td>1.881904e+01</td>\n",
       "    </tr>\n",
       "    <tr>\n",
       "      <th>v_12</th>\n",
       "      <td>150000.0</td>\n",
       "      <td>4.812595e-03</td>\n",
       "      <td>2.517478</td>\n",
       "      <td>-9.639552e+00</td>\n",
       "      <td>-1.871846e+00</td>\n",
       "      <td>-1.307533e-01</td>\n",
       "      <td>1.776933e+00</td>\n",
       "      <td>1.384779e+01</td>\n",
       "    </tr>\n",
       "    <tr>\n",
       "      <th>v_13</th>\n",
       "      <td>150000.0</td>\n",
       "      <td>3.126119e-04</td>\n",
       "      <td>1.288988</td>\n",
       "      <td>-4.153899e+00</td>\n",
       "      <td>-1.057789e+00</td>\n",
       "      <td>-3.624460e-02</td>\n",
       "      <td>9.428131e-01</td>\n",
       "      <td>1.114767e+01</td>\n",
       "    </tr>\n",
       "    <tr>\n",
       "      <th>v_14</th>\n",
       "      <td>150000.0</td>\n",
       "      <td>-6.882314e-04</td>\n",
       "      <td>1.038685</td>\n",
       "      <td>-6.546556e+00</td>\n",
       "      <td>-4.370337e-01</td>\n",
       "      <td>1.412460e-01</td>\n",
       "      <td>6.803781e-01</td>\n",
       "      <td>8.658418e+00</td>\n",
       "    </tr>\n",
       "  </tbody>\n",
       "</table>\n",
       "</div>"
      ],
      "text/plain": [
       "               count          mean           std           min           25%  \\\n",
       "SaleID      150000.0  7.499950e+04  43301.414527  0.000000e+00  3.749975e+04   \n",
       "name        150000.0  6.834917e+04  61103.875095  0.000000e+00  1.115600e+04   \n",
       "regDate     150000.0  2.003417e+07  53649.879255  1.991000e+07  1.999091e+07   \n",
       "model       149999.0  4.712902e+01     49.536040  0.000000e+00  1.000000e+01   \n",
       "brand       150000.0  8.052733e+00      7.864956  0.000000e+00  1.000000e+00   \n",
       "bodyType    145494.0  1.792369e+00      1.760640  0.000000e+00  0.000000e+00   \n",
       "fuelType    141320.0  3.758421e-01      0.548677  0.000000e+00  0.000000e+00   \n",
       "gearbox     144019.0  2.249425e-01      0.417546  0.000000e+00  0.000000e+00   \n",
       "power       150000.0  1.193165e+02    177.168419  0.000000e+00  7.500000e+01   \n",
       "kilometer   150000.0  1.259716e+01      3.919576  5.000000e-01  1.250000e+01   \n",
       "regionCode  150000.0  2.583077e+03   1885.363218  0.000000e+00  1.018000e+03   \n",
       "seller      150000.0  6.666667e-06      0.002582  0.000000e+00  0.000000e+00   \n",
       "offerType   150000.0  0.000000e+00      0.000000  0.000000e+00  0.000000e+00   \n",
       "creatDate   150000.0  2.016033e+07    106.732809  2.015062e+07  2.016031e+07   \n",
       "price       150000.0  5.923327e+03   7501.998477  1.100000e+01  1.300000e+03   \n",
       "v_0         150000.0  4.440627e+01      2.457548  3.045198e+01  4.313580e+01   \n",
       "v_1         150000.0 -4.480912e-02      3.641893 -4.295589e+00 -3.192349e+00   \n",
       "v_2         150000.0  8.076506e-02      2.929618 -4.470671e+00 -9.706712e-01   \n",
       "v_3         150000.0  7.883342e-02      2.026514 -7.275037e+00 -1.462580e+00   \n",
       "v_4         150000.0  1.787461e-02      1.193661 -4.364565e+00 -9.211915e-01   \n",
       "v_5         150000.0  2.482035e-01      0.045804  0.000000e+00  2.436154e-01   \n",
       "v_6         150000.0  4.492300e-02      0.051743  0.000000e+00  3.811100e-05   \n",
       "v_7         150000.0  1.246925e-01      0.201410  0.000000e+00  6.247353e-02   \n",
       "v_8         150000.0  5.814385e-02      0.029186  0.000000e+00  3.533369e-02   \n",
       "v_9         150000.0  6.199589e-02      0.035692  0.000000e+00  3.393018e-02   \n",
       "v_10        150000.0 -1.000239e-03      3.772386 -9.168192e+00 -3.722303e+00   \n",
       "v_11        150000.0  9.034543e-03      3.286071 -5.558207e+00 -1.951543e+00   \n",
       "v_12        150000.0  4.812595e-03      2.517478 -9.639552e+00 -1.871846e+00   \n",
       "v_13        150000.0  3.126119e-04      1.288988 -4.153899e+00 -1.057789e+00   \n",
       "v_14        150000.0 -6.882314e-04      1.038685 -6.546556e+00 -4.370337e-01   \n",
       "\n",
       "                     50%           75%           max  \n",
       "SaleID      7.499950e+04  1.124992e+05  1.499990e+05  \n",
       "name        5.163800e+04  1.188412e+05  1.968120e+05  \n",
       "regDate     2.003091e+07  2.007111e+07  2.015121e+07  \n",
       "model       3.000000e+01  6.600000e+01  2.470000e+02  \n",
       "brand       6.000000e+00  1.300000e+01  3.900000e+01  \n",
       "bodyType    1.000000e+00  3.000000e+00  7.000000e+00  \n",
       "fuelType    0.000000e+00  1.000000e+00  6.000000e+00  \n",
       "gearbox     0.000000e+00  0.000000e+00  1.000000e+00  \n",
       "power       1.100000e+02  1.500000e+02  1.931200e+04  \n",
       "kilometer   1.500000e+01  1.500000e+01  1.500000e+01  \n",
       "regionCode  2.196000e+03  3.843000e+03  8.120000e+03  \n",
       "seller      0.000000e+00  0.000000e+00  1.000000e+00  \n",
       "offerType   0.000000e+00  0.000000e+00  0.000000e+00  \n",
       "creatDate   2.016032e+07  2.016033e+07  2.016041e+07  \n",
       "price       3.250000e+03  7.700000e+03  9.999900e+04  \n",
       "v_0         4.461027e+01  4.600472e+01  5.230418e+01  \n",
       "v_1        -3.052671e+00  4.000670e+00  7.320308e+00  \n",
       "v_2        -3.829469e-01  2.413349e-01  1.903550e+01  \n",
       "v_3         9.972198e-02  1.565838e+00  9.854702e+00  \n",
       "v_4        -7.591043e-02  8.687584e-01  6.829352e+00  \n",
       "v_5         2.577980e-01  2.652973e-01  2.918381e-01  \n",
       "v_6         8.120586e-04  1.020093e-01  1.514196e-01  \n",
       "v_7         9.586590e-02  1.252429e-01  1.404936e+00  \n",
       "v_8         5.701360e-02  7.938157e-02  1.607910e-01  \n",
       "v_9         5.848367e-02  8.749055e-02  2.227875e-01  \n",
       "v_10        1.624076e+00  2.844357e+00  1.235701e+01  \n",
       "v_11       -3.580527e-01  1.255022e+00  1.881904e+01  \n",
       "v_12       -1.307533e-01  1.776933e+00  1.384779e+01  \n",
       "v_13       -3.624460e-02  9.428131e-01  1.114767e+01  \n",
       "v_14        1.412460e-01  6.803781e-01  8.658418e+00  "
      ]
     },
     "execution_count": 4,
     "metadata": {},
     "output_type": "execute_result"
    }
   ],
   "source": [
    "train.describe().T"
   ]
  },
  {
   "cell_type": "markdown",
   "metadata": {},
   "source": [
    "# **EDA**"
   ]
  },
  {
   "cell_type": "markdown",
   "metadata": {},
   "source": [
    "#### **预测值分布** "
   ]
  },
  {
   "cell_type": "code",
   "execution_count": 5,
   "metadata": {},
   "outputs": [
    {
     "data": {
      "text/plain": [
       "<AxesSubplot:xlabel='price'>"
      ]
     },
     "execution_count": 5,
     "metadata": {},
     "output_type": "execute_result"
    },
    {
     "data": {
      "image/png": "[encoded data removed]",
      "text/plain": [
       "<Figure size 360x360 with 1 Axes>"
      ]
     },
     "metadata": {
      "needs_background": "light"
     },
     "output_type": "display_data"
    }
   ],
   "source": [
    "fig, ax = plt.subplots(figsize=(5, 5))\n",
    "sns.set_style('white')\n",
    "sns.distplot(train['price'])"
   ]
  },
  {
   "cell_type": "code",
   "execution_count": 6,
   "metadata": {},
   "outputs": [
    {
     "data": {
      "text/plain": [
       "<AxesSubplot:xlabel='price'>"
      ]
     },
     "execution_count": 6,
     "metadata": {},
     "output_type": "execute_result"
    },
    {
     "data": {
      "image/png": "[encoded data removed]",
      "text/plain": [
       "<Figure size 432x288 with 1 Axes>"
      ]
     },
     "metadata": {},
     "output_type": "display_data"
    }
   ],
   "source": [
    "# 长尾分布——对数化\n",
    "train['price'] = np.log1p(train['price'])\n",
    "sns.distplot(train['price'])"
   ]
  },
  {
   "cell_type": "markdown",
   "metadata": {},
   "source": [
    "#### **合并训练集与测试集**"
   ]
  },
  {
   "cell_type": "code",
   "execution_count": 7,
   "metadata": {},
   "outputs": [],
   "source": [
    "all_data = pd.concat([train, test], ignore_index=True)"
   ]
  },
  {
   "cell_type": "markdown",
   "metadata": {},
   "source": [
    "#### **特征初步分析**"
   ]
  },
  {
   "cell_type": "code",
   "execution_count": 8,
   "metadata": {},
   "outputs": [
    {
     "data": {
      "text/plain": [
       "Index(['SaleID', 'name', 'regDate', 'model', 'brand', 'bodyType', 'fuelType',\n",
       "       'gearbox', 'power', 'kilometer', 'notRepairedDamage', 'regionCode',\n",
       "       'seller', 'offerType', 'creatDate', 'price', 'v_0', 'v_1', 'v_2', 'v_3',\n",
       "       'v_4', 'v_5', 'v_6', 'v_7', 'v_8', 'v_9', 'v_10', 'v_11', 'v_12',\n",
       "       'v_13', 'v_14'],\n",
       "      dtype='object')"
      ]
     },
     "execution_count": 8,
     "metadata": {},
     "output_type": "execute_result"
    }
   ],
   "source": [
    "all_data.columns"
   ]
  },
  {
   "cell_type": "code",
   "execution_count": 9,
   "metadata": {},
   "outputs": [],
   "source": [
    "# ID及名称特征\n",
    "id_features = ['SaleID', 'name']\n",
    "all_data.drop(id_features, axis=1, inplace=True)\n",
    "# 分类特征\n",
    "class_features = ['model', 'brand', 'bodyType', 'fuelType', 'gearbox', 'notRepairedDamage', 'seller', 'offerType']\n",
    "# 数字特征\n",
    "num_features = ['power', 'kilometer', \n",
    "                'v_0', 'v_1', 'v_2', 'v_3', 'v_4', 'v_5', 'v_6', 'v_7', 'v_8', 'v_9', 'v_10', 'v_11', 'v_12', 'v_13', 'v_14']\n",
    "# 时间特征\n",
    "time_features = ['regDate', 'creatDate']\n",
    "# 空间特征\n",
    "space_features = ['regionCode']"
   ]
  },
  {
   "cell_type": "markdown",
   "metadata": {},
   "source": [
    "#### **异常值**"
   ]
  },
  {
   "cell_type": "markdown",
   "metadata": {},
   "source": [
    "##### 数据类型分析"
   ]
  },
  {
   "cell_type": "code",
   "execution_count": 10,
   "metadata": {},
   "outputs": [
    {
     "data": {
      "text/plain": [
       "regDate                int64\n",
       "model                float64\n",
       "brand                  int64\n",
       "bodyType             float64\n",
       "fuelType             float64\n",
       "gearbox              float64\n",
       "power                  int64\n",
       "kilometer            float64\n",
       "notRepairedDamage     object\n",
       "regionCode             int64\n",
       "seller                 int64\n",
       "offerType              int64\n",
       "creatDate              int64\n",
       "price                float64\n",
       "v_0                  float64\n",
       "v_1                  float64\n",
       "v_2                  float64\n",
       "v_3                  float64\n",
       "v_4                  float64\n",
       "v_5                  float64\n",
       "v_6                  float64\n",
       "v_7                  float64\n",
       "v_8                  float64\n",
       "v_9                  float64\n",
       "v_10                 float64\n",
       "v_11                 float64\n",
       "v_12                 float64\n",
       "v_13                 float64\n",
       "v_14                 float64\n",
       "dtype: object"
      ]
     },
     "execution_count": 10,
     "metadata": {},
     "output_type": "execute_result"
    }
   ],
   "source": [
    "all_data.dtypes"
   ]
  },
  {
   "cell_type": "code",
   "execution_count": 11,
   "metadata": {},
   "outputs": [
    {
     "data": {
      "text/plain": [
       "notRepairedDamage    object\n",
       "dtype: object"
      ]
     },
     "execution_count": 11,
     "metadata": {},
     "output_type": "execute_result"
    }
   ],
   "source": [
    "all_data.dtypes[all_data.dtypes == 'object']"
   ]
  },
  {
   "cell_type": "code",
   "execution_count": 12,
   "metadata": {},
   "outputs": [
    {
     "data": {
      "text/plain": [
       "0.0    148585\n",
       "-       32393\n",
       "1.0     19022\n",
       "Name: notRepairedDamage, dtype: int64"
      ]
     },
     "execution_count": 12,
     "metadata": {},
     "output_type": "execute_result"
    }
   ],
   "source": [
    "all_data['notRepairedDamage'].value_counts()"
   ]
  },
  {
   "cell_type": "code",
   "execution_count": 13,
   "metadata": {},
   "outputs": [],
   "source": [
    "all_data['notRepairedDamage'].replace('-', pd.NA, inplace=True)"
   ]
  },
  {
   "cell_type": "code",
   "execution_count": 14,
   "metadata": {},
   "outputs": [],
   "source": [
    "all_data['notRepairedDamage'] = pd.to_numeric(all_data['notRepairedDamage'], errors='coerce')"
   ]
  },
  {
   "cell_type": "markdown",
   "metadata": {},
   "source": [
    "##### 经验分析"
   ]
  },
  {
   "cell_type": "code",
   "execution_count": 15,
   "metadata": {},
   "outputs": [],
   "source": [
    "all_data['power'] = all_data['power'].map(lambda x: 600 if x>600 else x)"
   ]
  },
  {
   "cell_type": "markdown",
   "metadata": {},
   "source": [
    "#### **缺失值**"
   ]
  },
  {
   "cell_type": "code",
   "execution_count": 16,
   "metadata": {},
   "outputs": [
    {
     "data": {
      "text/plain": [
       "price                50000\n",
       "notRepairedDamage    32393\n",
       "fuelType             11604\n",
       "gearbox               7949\n",
       "bodyType              6010\n",
       "model                    1\n",
       "v_14                     0\n",
       "brand                    0\n",
       "power                    0\n",
       "kilometer                0\n",
       "regionCode               0\n",
       "seller                   0\n",
       "offerType                0\n",
       "creatDate                0\n",
       "v_0                      0\n",
       "v_13                     0\n",
       "v_1                      0\n",
       "v_2                      0\n",
       "v_3                      0\n",
       "v_4                      0\n",
       "v_5                      0\n",
       "v_6                      0\n",
       "v_7                      0\n",
       "v_8                      0\n",
       "v_9                      0\n",
       "v_10                     0\n",
       "v_11                     0\n",
       "v_12                     0\n",
       "regDate                  0\n",
       "dtype: int64"
      ]
     },
     "execution_count": 16,
     "metadata": {},
     "output_type": "execute_result"
    }
   ],
   "source": [
    "null_features = all_data.isnull().sum().sort_values(ascending=False)\n",
    "null_features"
   ]
  },
  {
   "cell_type": "code",
   "execution_count": 17,
   "metadata": {},
   "outputs": [
    {
     "name": "stdout",
     "output_type": "stream",
     "text": [
      "['notRepairedDamage', 'fuelType', 'gearbox', 'bodyType', 'model']\n"
     ]
    }
   ],
   "source": [
    "null_features = list(null_features[null_features != 0].index)\n",
    "null_features.remove('price')\n",
    "print(null_features)"
   ]
  },
  {
   "cell_type": "code",
   "execution_count": 18,
   "metadata": {},
   "outputs": [],
   "source": [
    "# 填充缺失值\n",
    "x = all_data[null_features].copy()\n",
    "for f in null_features:\n",
    "    x[f].fillna(x[f].median(), inplace=True)"
   ]
  },
  {
   "cell_type": "code",
   "execution_count": 19,
   "metadata": {},
   "outputs": [],
   "source": [
    "all_data[null_features] = x"
   ]
  },
  {
   "cell_type": "code",
   "execution_count": 20,
   "metadata": {},
   "outputs": [
    {
     "data": {
      "text/plain": [
       "price                50000\n",
       "v_14                     0\n",
       "model                    0\n",
       "brand                    0\n",
       "bodyType                 0\n",
       "fuelType                 0\n",
       "gearbox                  0\n",
       "power                    0\n",
       "kilometer                0\n",
       "notRepairedDamage        0\n",
       "regionCode               0\n",
       "seller                   0\n",
       "offerType                0\n",
       "creatDate                0\n",
       "v_0                      0\n",
       "v_13                     0\n",
       "v_1                      0\n",
       "v_2                      0\n",
       "v_3                      0\n",
       "v_4                      0\n",
       "v_5                      0\n",
       "v_6                      0\n",
       "v_7                      0\n",
       "v_8                      0\n",
       "v_9                      0\n",
       "v_10                     0\n",
       "v_11                     0\n",
       "v_12                     0\n",
       "regDate                  0\n",
       "dtype: int64"
      ]
     },
     "execution_count": 20,
     "metadata": {},
     "output_type": "execute_result"
    }
   ],
   "source": [
    "all_data.isnull().sum().sort_values(ascending=False)"
   ]
  },
  {
   "cell_type": "markdown",
   "metadata": {},
   "source": [
    "# **特征工程**"
   ]
  },
  {
   "cell_type": "markdown",
   "metadata": {},
   "source": [
    "#### **名称特征**"
   ]
  },
  {
   "cell_type": "markdown",
   "metadata": {},
   "source": [
    "#### **时间特征**"
   ]
  },
  {
   "cell_type": "code",
   "execution_count": 21,
   "metadata": {},
   "outputs": [],
   "source": [
    "from datetime import datetime"
   ]
  },
  {
   "cell_type": "code",
   "execution_count": 22,
   "metadata": {},
   "outputs": [],
   "source": [
    "# 时间数据类型转换及异常值处理\n",
    "def date_process(x):\n",
    "    year = int(str(x)[:4])\n",
    "    month = int(str(x)[4:6])\n",
    "    day = int(str(x)[6:])\n",
    "    if month < 1:\n",
    "        month = 1\n",
    "    date = datetime(year, month, day)\n",
    "    return date"
   ]
  },
  {
   "cell_type": "code",
   "execution_count": 23,
   "metadata": {},
   "outputs": [],
   "source": [
    "all_data['regDate'] = all_data['regDate'].apply(date_process)"
   ]
  },
  {
   "cell_type": "code",
   "execution_count": 24,
   "metadata": {},
   "outputs": [],
   "source": [
    "all_data['creatDate'] = all_data['creatDate'].apply(date_process)"
   ]
  },
  {
   "cell_type": "code",
   "execution_count": 25,
   "metadata": {},
   "outputs": [],
   "source": [
    "all_data['regDate_year'] = all_data['regDate'].dt.year\n",
    "all_data['regDate_month'] = all_data['regDate'].dt.month\n",
    "all_data['regDate_day'] = all_data['regDate'].dt.day\n",
    "all_data['creatDate_year'] = all_data['creatDate'].dt.year\n",
    "all_data['creatDate_month'] = all_data['creatDate'].dt.month\n",
    "all_data['creatDate_day'] = all_data['creatDate'].dt.day"
   ]
  },
  {
   "cell_type": "code",
   "execution_count": 26,
   "metadata": {},
   "outputs": [],
   "source": [
    "# 使用时间\n",
    "all_data['used_time_year'] = round((all_data['creatDate'] - all_data['regDate']).dt.days/365, 1)\n",
    "all_data['used_time_month'] = round((all_data['creatDate'] - all_data['regDate']).dt.days/365*12, 1)\n",
    "all_data['used_time_day'] = (all_data['creatDate'] - all_data['regDate']).dt.days"
   ]
  },
  {
   "cell_type": "code",
   "execution_count": 27,
   "metadata": {},
   "outputs": [],
   "source": [
    "all_data.drop(time_features, axis=1, inplace=True)"
   ]
  },
  {
   "cell_type": "code",
   "execution_count": 28,
   "metadata": {},
   "outputs": [
    {
     "name": "stdout",
     "output_type": "stream",
     "text": [
      "['regDate_year', 'regDate_month', 'regDate_day', 'creatDate_year', 'creatDate_month', 'creatDate_day', 'used_time_year', 'used_time_month', 'used_time_day']\n"
     ]
    }
   ],
   "source": [
    "time_features.clear()\n",
    "time_features.extend(['regDate_year', 'regDate_month', 'regDate_day',\n",
    "                      'creatDate_year', 'creatDate_month', 'creatDate_day',\n",
    "                      'used_time_year', 'used_time_month', 'used_time_day'])\n",
    "print(time_features)"
   ]
  },
  {
   "cell_type": "markdown",
   "metadata": {},
   "source": [
    "#### **数值特征**"
   ]
  },
  {
   "cell_type": "markdown",
   "metadata": {},
   "source": [
    "数据分桶"
   ]
  },
  {
   "cell_type": "code",
   "execution_count": 29,
   "metadata": {},
   "outputs": [
    {
     "data": {
      "text/plain": [
       "0.5       2441\n",
       "1.0        986\n",
       "2.0       3122\n",
       "3.0       3339\n",
       "4.0       3610\n",
       "5.0       4254\n",
       "6.0       4951\n",
       "7.0       5469\n",
       "8.0       6103\n",
       "9.0       6941\n",
       "10.0      8629\n",
       "12.5     21035\n",
       "15.0    129120\n",
       "Name: kilometer, dtype: int64"
      ]
     },
     "execution_count": 29,
     "metadata": {},
     "output_type": "execute_result"
    }
   ],
   "source": [
    "all_data['kilometer'].value_counts().sort_index()"
   ]
  },
  {
   "cell_type": "code",
   "execution_count": 30,
   "metadata": {},
   "outputs": [
    {
     "data": {
      "text/plain": [
       "0      17219\n",
       "1         10\n",
       "2          5\n",
       "3          3\n",
       "4         13\n",
       "       ...  \n",
       "583        1\n",
       "584        1\n",
       "585        5\n",
       "587        1\n",
       "600      201\n",
       "Name: power, Length: 458, dtype: int64"
      ]
     },
     "execution_count": 30,
     "metadata": {},
     "output_type": "execute_result"
    }
   ],
   "source": [
    "all_data['power'].value_counts().sort_index()"
   ]
  },
  {
   "cell_type": "code",
   "execution_count": 31,
   "metadata": {},
   "outputs": [
    {
     "data": {
      "text/plain": [
       "<AxesSubplot:xlabel='power'>"
      ]
     },
     "execution_count": 31,
     "metadata": {},
     "output_type": "execute_result"
    },
    {
     "data": {
      "image/png": "[encoded data removed]",
      "text/plain": [
       "<Figure size 432x288 with 1 Axes>"
      ]
     },
     "metadata": {},
     "output_type": "display_data"
    }
   ],
   "source": [
    "sns.distplot(all_data['power'])"
   ]
  },
  {
   "cell_type": "code",
   "execution_count": 32,
   "metadata": {},
   "outputs": [
    {
     "name": "stdout",
     "output_type": "stream",
     "text": [
      "[-1, 10, 20, 30, 40, 50, 60, 70, 80, 90, 100, 110, 120, 130, 140, 150, 160, 170, 180, 190, 200, 210, 220, 230, 240, 250, 260, 270, 280, 290, 300, 600]\n"
     ]
    }
   ],
   "source": [
    "bins = [-1] + list(range(10, 301, 10)) + [600]\n",
    "print(bins)"
   ]
  },
  {
   "cell_type": "code",
   "execution_count": 33,
   "metadata": {},
   "outputs": [],
   "source": [
    "all_data['power_bin'] = pd.cut(all_data['power'], bins, labels=False)"
   ]
  },
  {
   "cell_type": "code",
   "execution_count": 34,
   "metadata": {},
   "outputs": [
    {
     "data": {
      "text/plain": [
       "<AxesSubplot:xlabel='power_bin'>"
      ]
     },
     "execution_count": 34,
     "metadata": {},
     "output_type": "execute_result"
    },
    {
     "data": {
      "image/png": "[encoded data removed]",
      "text/plain": [
       "<Figure size 432x288 with 1 Axes>"
      ]
     },
     "metadata": {},
     "output_type": "display_data"
    }
   ],
   "source": [
    "sns.distplot(all_data['power_bin'])"
   ]
  },
  {
   "cell_type": "code",
   "execution_count": 35,
   "metadata": {},
   "outputs": [],
   "source": [
    "# all_data.drop('power', axis=1, inplace=True)\n",
    "num_features.remove('kilometer')\n",
    "# num_features.remove('power')\n",
    "class_features.append('kilometer')\n",
    "class_features.append('power_bin')"
   ]
  },
  {
   "cell_type": "code",
   "execution_count": 36,
   "metadata": {},
   "outputs": [
    {
     "name": "stdout",
     "output_type": "stream",
     "text": [
      "['power', 'v_0', 'v_1', 'v_2', 'v_3', 'v_4', 'v_5', 'v_6', 'v_7', 'v_8', 'v_9', 'v_10', 'v_11', 'v_12', 'v_13', 'v_14']\n",
      "['model', 'brand', 'bodyType', 'fuelType', 'gearbox', 'notRepairedDamage', 'seller', 'offerType', 'kilometer', 'power_bin']\n"
     ]
    }
   ],
   "source": [
    "print(num_features)\n",
    "print(class_features)"
   ]
  },
  {
   "cell_type": "markdown",
   "metadata": {},
   "source": [
    "#### **分类特征**"
   ]
  },
  {
   "cell_type": "code",
   "execution_count": 37,
   "metadata": {},
   "outputs": [
    {
     "data": {
      "text/plain": [
       "model                248\n",
       "brand                 40\n",
       "power_bin             31\n",
       "kilometer             13\n",
       "bodyType               8\n",
       "fuelType               7\n",
       "seller                 2\n",
       "notRepairedDamage      2\n",
       "gearbox                2\n",
       "offerType              1\n",
       "dtype: int64"
      ]
     },
     "execution_count": 37,
     "metadata": {},
     "output_type": "execute_result"
    }
   ],
   "source": [
    "all_data[class_features].nunique().sort_values(ascending=False)"
   ]
  },
  {
   "cell_type": "code",
   "execution_count": 38,
   "metadata": {},
   "outputs": [
    {
     "data": {
      "text/plain": [
       "0.0    156703\n",
       "1.0     43297\n",
       "Name: gearbox, dtype: int64"
      ]
     },
     "execution_count": 38,
     "metadata": {},
     "output_type": "execute_result"
    }
   ],
   "source": [
    "all_data['gearbox'].value_counts()"
   ]
  },
  {
   "cell_type": "code",
   "execution_count": 39,
   "metadata": {},
   "outputs": [
    {
     "data": {
      "text/plain": [
       "0    199999\n",
       "1         1\n",
       "Name: seller, dtype: int64"
      ]
     },
     "execution_count": 39,
     "metadata": {},
     "output_type": "execute_result"
    }
   ],
   "source": [
    "all_data['seller'].value_counts()"
   ]
  },
  {
   "cell_type": "code",
   "execution_count": 40,
   "metadata": {},
   "outputs": [],
   "source": [
    "all_data.drop(['offerType', 'seller'], axis=1, inplace=True)"
   ]
  },
  {
   "cell_type": "code",
   "execution_count": 41,
   "metadata": {},
   "outputs": [
    {
     "name": "stdout",
     "output_type": "stream",
     "text": [
      "['model', 'brand', 'bodyType', 'fuelType', 'gearbox', 'notRepairedDamage', 'kilometer', 'power_bin']\n"
     ]
    }
   ],
   "source": [
    "class_features.remove('offerType')\n",
    "class_features.remove('seller')\n",
    "print(class_features)"
   ]
  },
  {
   "cell_type": "code",
   "execution_count": 42,
   "metadata": {},
   "outputs": [
    {
     "data": {
      "text/html": [
       "<div>\n",
       "<style scoped>\n",
       "    .dataframe tbody tr th:only-of-type {\n",
       "        vertical-align: middle;\n",
       "    }\n",
       "\n",
       "    .dataframe tbody tr th {\n",
       "        vertical-align: top;\n",
       "    }\n",
       "\n",
       "    .dataframe thead th {\n",
       "        text-align: right;\n",
       "    }\n",
       "</style>\n",
       "<table border=\"1\" class=\"dataframe\">\n",
       "  <thead>\n",
       "    <tr style=\"text-align: right;\">\n",
       "      <th></th>\n",
       "      <th>model</th>\n",
       "      <th>brand</th>\n",
       "      <th>bodyType</th>\n",
       "      <th>fuelType</th>\n",
       "      <th>gearbox</th>\n",
       "      <th>notRepairedDamage</th>\n",
       "      <th>kilometer</th>\n",
       "      <th>power_bin</th>\n",
       "    </tr>\n",
       "  </thead>\n",
       "  <tbody>\n",
       "    <tr>\n",
       "      <th>0</th>\n",
       "      <td>30.0</td>\n",
       "      <td>6</td>\n",
       "      <td>1.0</td>\n",
       "      <td>0.0</td>\n",
       "      <td>0.0</td>\n",
       "      <td>0.0</td>\n",
       "      <td>12.5</td>\n",
       "      <td>5</td>\n",
       "    </tr>\n",
       "    <tr>\n",
       "      <th>1</th>\n",
       "      <td>40.0</td>\n",
       "      <td>1</td>\n",
       "      <td>2.0</td>\n",
       "      <td>0.0</td>\n",
       "      <td>0.0</td>\n",
       "      <td>0.0</td>\n",
       "      <td>15.0</td>\n",
       "      <td>0</td>\n",
       "    </tr>\n",
       "    <tr>\n",
       "      <th>2</th>\n",
       "      <td>115.0</td>\n",
       "      <td>15</td>\n",
       "      <td>1.0</td>\n",
       "      <td>0.0</td>\n",
       "      <td>0.0</td>\n",
       "      <td>0.0</td>\n",
       "      <td>12.5</td>\n",
       "      <td>16</td>\n",
       "    </tr>\n",
       "    <tr>\n",
       "      <th>3</th>\n",
       "      <td>109.0</td>\n",
       "      <td>10</td>\n",
       "      <td>0.0</td>\n",
       "      <td>0.0</td>\n",
       "      <td>1.0</td>\n",
       "      <td>0.0</td>\n",
       "      <td>15.0</td>\n",
       "      <td>19</td>\n",
       "    </tr>\n",
       "    <tr>\n",
       "      <th>4</th>\n",
       "      <td>110.0</td>\n",
       "      <td>5</td>\n",
       "      <td>1.0</td>\n",
       "      <td>0.0</td>\n",
       "      <td>0.0</td>\n",
       "      <td>0.0</td>\n",
       "      <td>5.0</td>\n",
       "      <td>6</td>\n",
       "    </tr>\n",
       "    <tr>\n",
       "      <th>...</th>\n",
       "      <td>...</td>\n",
       "      <td>...</td>\n",
       "      <td>...</td>\n",
       "      <td>...</td>\n",
       "      <td>...</td>\n",
       "      <td>...</td>\n",
       "      <td>...</td>\n",
       "      <td>...</td>\n",
       "    </tr>\n",
       "    <tr>\n",
       "      <th>199995</th>\n",
       "      <td>4.0</td>\n",
       "      <td>4</td>\n",
       "      <td>0.0</td>\n",
       "      <td>0.0</td>\n",
       "      <td>1.0</td>\n",
       "      <td>0.0</td>\n",
       "      <td>15.0</td>\n",
       "      <td>14</td>\n",
       "    </tr>\n",
       "    <tr>\n",
       "      <th>199996</th>\n",
       "      <td>65.0</td>\n",
       "      <td>1</td>\n",
       "      <td>0.0</td>\n",
       "      <td>0.0</td>\n",
       "      <td>0.0</td>\n",
       "      <td>0.0</td>\n",
       "      <td>4.0</td>\n",
       "      <td>17</td>\n",
       "    </tr>\n",
       "    <tr>\n",
       "      <th>199997</th>\n",
       "      <td>4.0</td>\n",
       "      <td>4</td>\n",
       "      <td>0.0</td>\n",
       "      <td>0.0</td>\n",
       "      <td>1.0</td>\n",
       "      <td>0.0</td>\n",
       "      <td>12.5</td>\n",
       "      <td>14</td>\n",
       "    </tr>\n",
       "    <tr>\n",
       "      <th>199998</th>\n",
       "      <td>40.0</td>\n",
       "      <td>1</td>\n",
       "      <td>4.0</td>\n",
       "      <td>0.0</td>\n",
       "      <td>1.0</td>\n",
       "      <td>0.0</td>\n",
       "      <td>15.0</td>\n",
       "      <td>17</td>\n",
       "    </tr>\n",
       "    <tr>\n",
       "      <th>199999</th>\n",
       "      <td>32.0</td>\n",
       "      <td>8</td>\n",
       "      <td>1.0</td>\n",
       "      <td>0.0</td>\n",
       "      <td>0.0</td>\n",
       "      <td>0.0</td>\n",
       "      <td>3.0</td>\n",
       "      <td>0</td>\n",
       "    </tr>\n",
       "  </tbody>\n",
       "</table>\n",
       "<p>200000 rows × 8 columns</p>\n",
       "</div>"
      ],
      "text/plain": [
       "        model brand bodyType fuelType gearbox notRepairedDamage kilometer  \\\n",
       "0        30.0     6      1.0      0.0     0.0               0.0      12.5   \n",
       "1        40.0     1      2.0      0.0     0.0               0.0      15.0   \n",
       "2       115.0    15      1.0      0.0     0.0               0.0      12.5   \n",
       "3       109.0    10      0.0      0.0     1.0               0.0      15.0   \n",
       "4       110.0     5      1.0      0.0     0.0               0.0       5.0   \n",
       "...       ...   ...      ...      ...     ...               ...       ...   \n",
       "199995    4.0     4      0.0      0.0     1.0               0.0      15.0   \n",
       "199996   65.0     1      0.0      0.0     0.0               0.0       4.0   \n",
       "199997    4.0     4      0.0      0.0     1.0               0.0      12.5   \n",
       "199998   40.0     1      4.0      0.0     1.0               0.0      15.0   \n",
       "199999   32.0     8      1.0      0.0     0.0               0.0       3.0   \n",
       "\n",
       "       power_bin  \n",
       "0              5  \n",
       "1              0  \n",
       "2             16  \n",
       "3             19  \n",
       "4              6  \n",
       "...          ...  \n",
       "199995        14  \n",
       "199996        17  \n",
       "199997        14  \n",
       "199998        17  \n",
       "199999         0  \n",
       "\n",
       "[200000 rows x 8 columns]"
      ]
     },
     "execution_count": 42,
     "metadata": {},
     "output_type": "execute_result"
    }
   ],
   "source": [
    "all_data[class_features].astype('category')"
   ]
  },
  {
   "cell_type": "markdown",
   "metadata": {},
   "source": [
    "特征交叉"
   ]
  },
  {
   "cell_type": "code",
   "execution_count": 43,
   "metadata": {},
   "outputs": [],
   "source": [
    "for f in class_features:\n",
    "    train_gb = all_data.iloc[:train_0.shape[0], :].groupby(f)\n",
    "    all_info = {}\n",
    "    for c, c_data in train_gb:\n",
    "        info = {}\n",
    "        info[f + '_amount'] = len(c_data)\n",
    "        info[f + '_price_max'] = c_data.price.max()\n",
    "        info[f + '_price_median'] = c_data.price.median()\n",
    "        info[f + '_price_min'] = c_data.price.min()\n",
    "        info[f + '_price_sum'] = c_data.price.sum()\n",
    "        info[f + '_price_std'] = c_data.price.std()\n",
    "        info[f + '_price_mean'] = c_data.price.mean()\n",
    "        all_info[c] = info\n",
    "    all_info_df = pd.DataFrame(all_info).T.reset_index().rename(columns={'index': f})\n",
    "    all_data = all_data.merge(all_info_df, how='left', on=f)"
   ]
  },
  {
   "cell_type": "markdown",
   "metadata": {},
   "source": [
    "独热编码"
   ]
  },
  {
   "cell_type": "code",
   "execution_count": 44,
   "metadata": {},
   "outputs": [],
   "source": [
    "# one_hot_features = ['gearbox', 'notRepairedDamage', 'fuelType', 'bodyType', 'power_bin']\n",
    "# all_data = pd.get_dummies(all_data, columns=one_hot_features)"
   ]
  },
  {
   "cell_type": "markdown",
   "metadata": {},
   "source": [
    "#### **特征筛选**"
   ]
  },
  {
   "cell_type": "code",
   "execution_count": 45,
   "metadata": {},
   "outputs": [
    {
     "name": "stdout",
     "output_type": "stream",
     "text": [
      "['model', 'brand', 'bodyType', 'fuelType', 'gearbox', 'power', 'kilometer', 'notRepairedDamage', 'regionCode', 'v_0', 'v_1', 'v_2', 'v_3', 'v_4', 'v_5', 'v_6', 'v_7', 'v_8', 'v_9', 'v_10', 'v_11', 'v_12', 'v_13', 'v_14', 'regDate_year', 'regDate_month', 'regDate_day', 'creatDate_year', 'creatDate_month', 'creatDate_day', 'used_time_year', 'used_time_month', 'used_time_day', 'power_bin', 'model_amount', 'model_price_max', 'model_price_median', 'model_price_min', 'model_price_sum', 'model_price_std', 'model_price_mean', 'brand_amount', 'brand_price_max', 'brand_price_median', 'brand_price_min', 'brand_price_sum', 'brand_price_std', 'brand_price_mean', 'bodyType_amount', 'bodyType_price_max', 'bodyType_price_median', 'bodyType_price_min', 'bodyType_price_sum', 'bodyType_price_std', 'bodyType_price_mean', 'fuelType_amount', 'fuelType_price_max', 'fuelType_price_median', 'fuelType_price_min', 'fuelType_price_sum', 'fuelType_price_std', 'fuelType_price_mean', 'gearbox_amount', 'gearbox_price_max', 'gearbox_price_median', 'gearbox_price_min', 'gearbox_price_sum', 'gearbox_price_std', 'gearbox_price_mean', 'notRepairedDamage_amount', 'notRepairedDamage_price_max', 'notRepairedDamage_price_median', 'notRepairedDamage_price_min', 'notRepairedDamage_price_sum', 'notRepairedDamage_price_std', 'notRepairedDamage_price_mean', 'kilometer_amount', 'kilometer_price_max', 'kilometer_price_median', 'kilometer_price_min', 'kilometer_price_sum', 'kilometer_price_std', 'kilometer_price_mean', 'power_bin_amount', 'power_bin_price_max', 'power_bin_price_median', 'power_bin_price_min', 'power_bin_price_sum', 'power_bin_price_std', 'power_bin_price_mean']\n"
     ]
    }
   ],
   "source": [
    "features = all_data.columns.to_list()\n",
    "features.remove('price')\n",
    "print(features)"
   ]
  },
  {
   "cell_type": "markdown",
   "metadata": {},
   "source": [
    "#### **特征归一化**"
   ]
  },
  {
   "cell_type": "code",
   "execution_count": 46,
   "metadata": {},
   "outputs": [],
   "source": [
    "# from sklearn.preprocessing import MinMaxScaler\n",
    "# scaler = MinMaxScaler()\n",
    "# scaler.fit(all_data[features].values)\n",
    "# all_data_features= pd.DataFrame(scaler.transform(all_data[features].values))\n",
    "# all_data[features] = all_data_features"
   ]
  },
  {
   "cell_type": "markdown",
   "metadata": {},
   "source": [
    "#### **数据集重建**"
   ]
  },
  {
   "cell_type": "code",
   "execution_count": 47,
   "metadata": {},
   "outputs": [],
   "source": [
    "train_tree = all_data.iloc[:train_0.shape[0], :]\n",
    "test_tree = all_data.iloc[train_0.shape[0]:, :]"
   ]
  },
  {
   "cell_type": "code",
   "execution_count": 48,
   "metadata": {},
   "outputs": [],
   "source": [
    "train_tree.to_csv(path+'train_tree.csv', sep=' ', index=False)\n",
    "test_tree.to_csv(path+'test_tree.csv', sep=' ', index=False)"
   ]
  }
 ],
 "metadata": {
  "kernelspec": {
   "display_name": "Python 3",
   "language": "python",
   "name": "python3"
  },
  "language_info": {
   "codemirror_mode": {
    "name": "ipython",
    "version": 3
   },
   "file_extension": ".py",
   "mimetype": "text/x-python",
   "name": "python",
   "nbconvert_exporter": "python",
   "pygments_lexer": "ipython3",
   "version": "3.7.8"
  }
 },
 "nbformat": 4,
 "nbformat_minor": 4
}
